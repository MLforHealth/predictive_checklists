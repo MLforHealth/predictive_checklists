{
 "cells": [
  {
   "cell_type": "markdown",
   "metadata": {},
   "source": [
    "In this notebook, we create a simple checklist using the UCI Heart dataset that minimizes FPR subject to a constraint on the FNR."
   ]
  },
  {
   "cell_type": "code",
   "execution_count": 1,
   "metadata": {},
   "outputs": [
    {
     "name": "stdout",
     "output_type": "stream",
     "text": [
      "Using CPLEX version 20.1.0.0\n"
     ]
    }
   ],
   "source": [
    "import pandas as pd\n",
    "import numpy as np\n",
    "from sklearn.model_selection import train_test_split\n",
    "\n",
    "from IPChecklists.dataset import BinaryDataset\n",
    "\n",
    "# if using CPLEX\n",
    "from IPChecklists.model_cplex import ChecklistMIP\n",
    "from IPChecklists.constraints_cplex import MaxNumFeatureConstraint, FNRConstraint, FPRConstraint\n",
    "\n",
    "# if using Python-MIP\n",
    "# from IPChecklists.model_pythonmip import ChecklistMIP\n",
    "# from IPChecklists.constraints_pythonmip import MaxNumFeatureConstraint, FNRConstraint, FPRConstraint"
   ]
  },
  {
   "cell_type": "markdown",
   "metadata": {},
   "source": [
    "### 1. Load and process the dataset"
   ]
  },
  {
   "cell_type": "code",
   "execution_count": 2,
   "metadata": {},
   "outputs": [],
   "source": [
    "df = pd.read_csv('./data/heart.csv')\n",
    "\n",
    "# process feature columns\n",
    "cont_cols = ['trestbps', 'chol', 'thalach', 'age', 'oldpeak']\n",
    "for i in cont_cols:\n",
    "    df[i] = df[i].astype(float)\n",
    "\n",
    "cat_cols = ['cp', 'thal', 'ca', 'slope', 'restecg']\n",
    "for i in cat_cols: # cast categorical columns as string for later type inference\n",
    "    df[i] = df[i].astype(str)\n",
    "\n",
    "df_train, df_test = train_test_split(df, test_size = 0.25, random_state = 42, stratify = df['target'])"
   ]
  },
  {
   "cell_type": "code",
   "execution_count": 3,
   "metadata": {},
   "outputs": [
    {
     "data": {
      "text/html": [
       "<div>\n",
       "<style scoped>\n",
       "    .dataframe tbody tr th:only-of-type {\n",
       "        vertical-align: middle;\n",
       "    }\n",
       "\n",
       "    .dataframe tbody tr th {\n",
       "        vertical-align: top;\n",
       "    }\n",
       "\n",
       "    .dataframe thead th {\n",
       "        text-align: right;\n",
       "    }\n",
       "</style>\n",
       "<table border=\"1\" class=\"dataframe\">\n",
       "  <thead>\n",
       "    <tr style=\"text-align: right;\">\n",
       "      <th></th>\n",
       "      <th>age</th>\n",
       "      <th>sex</th>\n",
       "      <th>cp</th>\n",
       "      <th>trestbps</th>\n",
       "      <th>chol</th>\n",
       "      <th>fbs</th>\n",
       "      <th>restecg</th>\n",
       "      <th>thalach</th>\n",
       "      <th>exang</th>\n",
       "      <th>oldpeak</th>\n",
       "      <th>slope</th>\n",
       "      <th>ca</th>\n",
       "      <th>thal</th>\n",
       "      <th>target</th>\n",
       "    </tr>\n",
       "  </thead>\n",
       "  <tbody>\n",
       "    <tr>\n",
       "      <th>66</th>\n",
       "      <td>51.0</td>\n",
       "      <td>1</td>\n",
       "      <td>2</td>\n",
       "      <td>100.0</td>\n",
       "      <td>222.0</td>\n",
       "      <td>0</td>\n",
       "      <td>1</td>\n",
       "      <td>143.0</td>\n",
       "      <td>1</td>\n",
       "      <td>1.2</td>\n",
       "      <td>1</td>\n",
       "      <td>0</td>\n",
       "      <td>2</td>\n",
       "      <td>1</td>\n",
       "    </tr>\n",
       "    <tr>\n",
       "      <th>260</th>\n",
       "      <td>66.0</td>\n",
       "      <td>0</td>\n",
       "      <td>0</td>\n",
       "      <td>178.0</td>\n",
       "      <td>228.0</td>\n",
       "      <td>1</td>\n",
       "      <td>1</td>\n",
       "      <td>165.0</td>\n",
       "      <td>1</td>\n",
       "      <td>1.0</td>\n",
       "      <td>1</td>\n",
       "      <td>2</td>\n",
       "      <td>3</td>\n",
       "      <td>0</td>\n",
       "    </tr>\n",
       "    <tr>\n",
       "      <th>289</th>\n",
       "      <td>55.0</td>\n",
       "      <td>0</td>\n",
       "      <td>0</td>\n",
       "      <td>128.0</td>\n",
       "      <td>205.0</td>\n",
       "      <td>0</td>\n",
       "      <td>2</td>\n",
       "      <td>130.0</td>\n",
       "      <td>1</td>\n",
       "      <td>2.0</td>\n",
       "      <td>1</td>\n",
       "      <td>1</td>\n",
       "      <td>3</td>\n",
       "      <td>0</td>\n",
       "    </tr>\n",
       "    <tr>\n",
       "      <th>237</th>\n",
       "      <td>60.0</td>\n",
       "      <td>1</td>\n",
       "      <td>0</td>\n",
       "      <td>140.0</td>\n",
       "      <td>293.0</td>\n",
       "      <td>0</td>\n",
       "      <td>0</td>\n",
       "      <td>170.0</td>\n",
       "      <td>0</td>\n",
       "      <td>1.2</td>\n",
       "      <td>1</td>\n",
       "      <td>2</td>\n",
       "      <td>3</td>\n",
       "      <td>0</td>\n",
       "    </tr>\n",
       "    <tr>\n",
       "      <th>144</th>\n",
       "      <td>76.0</td>\n",
       "      <td>0</td>\n",
       "      <td>2</td>\n",
       "      <td>140.0</td>\n",
       "      <td>197.0</td>\n",
       "      <td>0</td>\n",
       "      <td>2</td>\n",
       "      <td>116.0</td>\n",
       "      <td>0</td>\n",
       "      <td>1.1</td>\n",
       "      <td>1</td>\n",
       "      <td>0</td>\n",
       "      <td>2</td>\n",
       "      <td>1</td>\n",
       "    </tr>\n",
       "  </tbody>\n",
       "</table>\n",
       "</div>"
      ],
      "text/plain": [
       "      age  sex cp  trestbps   chol  fbs restecg  thalach  exang  oldpeak  \\\n",
       "66   51.0    1  2     100.0  222.0    0       1    143.0      1      1.2   \n",
       "260  66.0    0  0     178.0  228.0    1       1    165.0      1      1.0   \n",
       "289  55.0    0  0     128.0  205.0    0       2    130.0      1      2.0   \n",
       "237  60.0    1  0     140.0  293.0    0       0    170.0      0      1.2   \n",
       "144  76.0    0  2     140.0  197.0    0       2    116.0      0      1.1   \n",
       "\n",
       "    slope ca thal  target  \n",
       "66      1  0    2       1  \n",
       "260     1  2    3       0  \n",
       "289     1  1    3       0  \n",
       "237     1  2    3       0  \n",
       "144     1  0    2       1  "
      ]
     },
     "execution_count": 3,
     "metadata": {},
     "output_type": "execute_result"
    }
   ],
   "source": [
    "df_train.head()"
   ]
  },
  {
   "cell_type": "markdown",
   "metadata": {},
   "source": [
    "### 2. Binarize the dataset"
   ]
  },
  {
   "cell_type": "code",
   "execution_count": 4,
   "metadata": {},
   "outputs": [
    {
     "name": "stderr",
     "output_type": "stream",
     "text": [
      "INFO:root:Removed 2 non-informative columns: {'oldpeak<~0.0', 'oldpeak>=0.0'}\n",
      "INFO:root:Binary dataframe: 66 binary features and 227 samples\n"
     ]
    }
   ],
   "source": [
    "train_ds = BinaryDataset(df_train, \n",
    "                         target_name = 'target',  # column name of target variable\n",
    "                         pos_label = 1, # what value of the target is a \"positive\" prediction\n",
    "                         col_subset = cont_cols + cat_cols # use these columns for modelling\n",
    "                      )"
   ]
  },
  {
   "cell_type": "code",
   "execution_count": 5,
   "metadata": {},
   "outputs": [
    {
     "data": {
      "text/plain": [
       "Index(['trestbps>=120.0', 'trestbps<~120.0', 'trestbps>=130.0',\n",
       "       'trestbps<~130.0', 'trestbps>=140.0', 'trestbps<~140.0', 'chol>=211.0',\n",
       "       'chol<~211.0', 'chol>=240.0', 'chol<~240.0', 'chol>=270.5',\n",
       "       'chol<~270.5', 'thalach>=136.5', 'thalach<~136.5', 'thalach>=152.0',\n",
       "       'thalach<~152.0', 'thalach>=166.0', 'thalach<~166.0', 'age>=47.0',\n",
       "       'age<~47.0', 'age>=55.0', 'age<~55.0', 'age>=61.0', 'age<~61.0',\n",
       "       'oldpeak>=0.8', 'oldpeak<~0.8', 'oldpeak>=1.8', 'oldpeak<~1.8', 'cp==2',\n",
       "       'cp!=2', 'cp==0', 'cp!=0', 'cp==1', 'cp!=1', 'cp==3', 'cp!=3',\n",
       "       'thal==2', 'thal!=2', 'thal==3', 'thal!=3', 'thal==1', 'thal!=1',\n",
       "       'thal==0', 'thal!=0', 'ca==0', 'ca!=0', 'ca==2', 'ca!=2', 'ca==1',\n",
       "       'ca!=1', 'ca==3', 'ca!=3', 'ca==4', 'ca!=4', 'slope==1', 'slope!=1',\n",
       "       'slope==2', 'slope!=2', 'slope==0', 'slope!=0', 'restecg==1',\n",
       "       'restecg!=1', 'restecg==2', 'restecg!=2', 'restecg==0', 'restecg!=0'],\n",
       "      dtype='object')"
      ]
     },
     "execution_count": 5,
     "metadata": {},
     "output_type": "execute_result"
    }
   ],
   "source": [
    "# binarized features\n",
    "train_ds.binarized_df.columns"
   ]
  },
  {
   "cell_type": "code",
   "execution_count": 6,
   "metadata": {},
   "outputs": [],
   "source": [
    "test_ds = train_ds.apply_transform(df_test) # binarize the test set using the same thresholds"
   ]
  },
  {
   "cell_type": "markdown",
   "metadata": {},
   "source": [
    "### 3. Create a MIP"
   ]
  },
  {
   "cell_type": "markdown",
   "metadata": {},
   "source": [
    "Here, we minimize the FPR subject to an FNR constraint. The FNR constraint is required, because the model could otherwise obtain 0% FPR by only making negative predictions.\n",
    "\n",
    "Alternatively, we could have set cost_func = '01' (i.e. maximizing accuracy) and not have to use any performance constraints."
   ]
  },
  {
   "cell_type": "code",
   "execution_count": 7,
   "metadata": {},
   "outputs": [
    {
     "name": "stderr",
     "output_type": "stream",
     "text": [
      "INFO:root:Before compression: 227 rows\n",
      "INFO:root:After compression: 223 rows\n"
     ]
    }
   ],
   "source": [
    "model = ChecklistMIP(train_ds, cost_func = 'FPR') "
   ]
  },
  {
   "cell_type": "markdown",
   "metadata": {},
   "source": [
    "### 4. Build the MIP and add constraints"
   ]
  },
  {
   "cell_type": "code",
   "execution_count": 8,
   "metadata": {},
   "outputs": [],
   "source": [
    "model.add_constraint(FNRConstraint(0.1)) # FNR <= 10%\n",
    "model.build_problem(N_constraint = MaxNumFeatureConstraint('<=', 5)) # use at most 5 features"
   ]
  },
  {
   "cell_type": "markdown",
   "metadata": {},
   "source": [
    "### 5. Solve the MIP"
   ]
  },
  {
   "cell_type": "code",
   "execution_count": 9,
   "metadata": {
    "scrolled": true
   },
   "outputs": [
    {
     "name": "stderr",
     "output_type": "stream",
     "text": [
      "Advanced basis not built.\n"
     ]
    },
    {
     "name": "stdout",
     "output_type": "stream",
     "text": [
      "Found solution with objective 1770.502211784141 and optimality gap 62.61%.\n"
     ]
    }
   ],
   "source": [
    "stats = model.solve(max_seconds=60, display_progress=False) # can solve for longer for better performance"
   ]
  },
  {
   "cell_type": "markdown",
   "metadata": {},
   "source": [
    "### 6. Create a \"checklist\" from the MIP"
   ]
  },
  {
   "cell_type": "code",
   "execution_count": 10,
   "metadata": {},
   "outputs": [],
   "source": [
    "check = model.to_checklist()"
   ]
  },
  {
   "cell_type": "code",
   "execution_count": 11,
   "metadata": {
    "scrolled": true
   },
   "outputs": [
    {
     "data": {
      "text/plain": [
       "oldpeak<~0.8\n",
       "cp!=0\n",
       "thal==2\n",
       "ca==0\n",
       "slope!=1\n",
       "\n",
       "M = 3.0, N = 5.0"
      ]
     },
     "execution_count": 11,
     "metadata": {},
     "output_type": "execute_result"
    }
   ],
   "source": [
    "check"
   ]
  },
  {
   "cell_type": "markdown",
   "metadata": {},
   "source": [
    "### 7. Examine various metrics"
   ]
  },
  {
   "cell_type": "code",
   "execution_count": 12,
   "metadata": {},
   "outputs": [
    {
     "data": {
      "text/plain": [
       "{'accuracy': 0.8766519823788547,\n",
       " 'n_samples': 227,\n",
       " 'TN': 86,\n",
       " 'FN': 11,\n",
       " 'TP': 113,\n",
       " 'FP': 17,\n",
       " 'error': 28,\n",
       " 'TPR': 0.9112903225806451,\n",
       " 'FNR': 0.08870967741935484,\n",
       " 'FPR': 0.1650485436893204,\n",
       " 'TNR': 0.8349514563106796,\n",
       " 'precision': 0.8692307692307693,\n",
       " 'pred_prevalence': 0.5726872246696035,\n",
       " 'prevalence': 0.5462555066079295}"
      ]
     },
     "execution_count": 12,
     "metadata": {},
     "output_type": "execute_result"
    }
   ],
   "source": [
    "# training set performance. Note that FNR <= 10%\n",
    "check.get_metrics(train_ds)"
   ]
  },
  {
   "cell_type": "code",
   "execution_count": 13,
   "metadata": {},
   "outputs": [
    {
     "data": {
      "text/plain": [
       "{'accuracy': 0.7894736842105263,\n",
       " 'n_samples': 76,\n",
       " 'TN': 26,\n",
       " 'FN': 7,\n",
       " 'TP': 34,\n",
       " 'FP': 9,\n",
       " 'error': 16,\n",
       " 'TPR': 0.8292682926829268,\n",
       " 'FNR': 0.17073170731707318,\n",
       " 'FPR': 0.2571428571428571,\n",
       " 'TNR': 0.7428571428571429,\n",
       " 'precision': 0.7906976744186046,\n",
       " 'pred_prevalence': 0.5657894736842105,\n",
       " 'prevalence': 0.5394736842105263}"
      ]
     },
     "execution_count": 13,
     "metadata": {},
     "output_type": "execute_result"
    }
   ],
   "source": [
    "# test set performance\n",
    "check.get_metrics(test_ds)"
   ]
  },
  {
   "cell_type": "code",
   "execution_count": null,
   "metadata": {},
   "outputs": [],
   "source": []
  }
 ],
 "metadata": {
  "kernelspec": {
   "display_name": "Python 3 (ipykernel)",
   "language": "python",
   "name": "python3"
  },
  "language_info": {
   "codemirror_mode": {
    "name": "ipython",
    "version": 3
   },
   "file_extension": ".py",
   "mimetype": "text/x-python",
   "name": "python",
   "nbconvert_exporter": "python",
   "pygments_lexer": "ipython3",
   "version": "3.7.11"
  }
 },
 "nbformat": 4,
 "nbformat_minor": 2
}
